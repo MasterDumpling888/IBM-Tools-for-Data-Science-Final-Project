{
 "cells": [
  {
   "cell_type": "markdown",
   "metadata": {},
   "source": [
    "# ***Data Science Tools and Ecosystem***"
   ]
  },
  {
   "cell_type": "markdown",
   "metadata": {},
   "source": [
    "## The introduction\n",
    "In this notebook, Data Science Tools and Ecosystem are summarized."
   ]
  },
  {
   "cell_type": "markdown",
   "metadata": {},
   "source": [
    "## Data Science Langauges\n",
    "Some of the popular languages that Data Scientists use are:\n",
    "1. Python\n",
    "2. R\n",
    "3. SQL\n",
    "4. Java\n",
    "5. Scala\n",
    "6. Julia\n",
    "7. MATLAB\n",
    "8. SAS\n",
    "9. Hadoop\n",
    "10. JavaScript"
   ]
  },
  {
   "cell_type": "markdown",
   "metadata": {},
   "source": [
    "## Data Science Libraries\n",
    "Some of the commonly used libraries used by Data Scientists include:\n",
    "- ### Python Libraries\n",
    "    1. Pandas\n",
    "    2. NumPy\n",
    "    3. Scikit-learn\n",
    "    4. TensorFlow\n",
    "- ### R Libraries\n",
    "    1. ggplot2\n",
    "\t2.\tdplyr\n",
    "\t3.\ttidyr\n",
    "\t4.\tcaret\n",
    "\n",
    "- ### JavaScript Libraries\n",
    "\t1.\tD3.js\n",
    "\t2.\tChart.js\n",
    "\t3.\tPlotly.js\n"
   ]
  },
  {
   "cell_type": "markdown",
   "metadata": {},
   "source": [
    "|Data Science Tools|\n",
    "|-----------------|\n",
    "| Pandas          | \n",
    "| NumPy           | \n",
    "| Matplotlib      | \n",
    "| ggplot2         | \n",
    "| Scikit-learn    | \n",
    "| TensorFlow      | \n",
    "| RStudio         | \n",
    "| Jupyter Notebooks|"
   ]
  },
  {
   "cell_type": "markdown",
   "metadata": {},
   "source": [
    "### Below are a few examples of evaluating arithmetic expressions in Python:\n",
    "- Addition: `5 + 3 = 8`\n",
    "- Subtraction: `10 - 4 = 6`\n",
    "- Multiplication: `6 * 7 = 42`\n",
    "- Division: `20 / 4 = 5`\n",
    "- Modulus: `15 % 4 = 3`"
   ]
  },
  {
   "cell_type": "code",
   "execution_count": 2,
   "metadata": {},
   "outputs": [
    {
     "name": "stdout",
     "output_type": "stream",
     "text": [
      "The result of the operations is: 17\n"
     ]
    }
   ],
   "source": [
    "# Sample expression to showcase the multiplication and addition operations\n",
    "result = (3*4)+5\n",
    "print(f\"The result of the operations is: {result}\")\n"
   ]
  },
  {
   "cell_type": "code",
   "execution_count": 3,
   "metadata": {},
   "outputs": [
    {
     "name": "stdout",
     "output_type": "stream",
     "text": [
      "200 minutes is equal to 3.3333333333333335 hours\n"
     ]
    }
   ],
   "source": [
    "# Function to convert minutes to hours by dividing minutes to 60\n",
    "def convert_minutes_to_hours(minutes):\n",
    "    hours = minutes / 60\n",
    "    return hours\n",
    "\n",
    "#Convert 200 minutes to hours\n",
    "minutes = 200\n",
    "hours = convert_minutes_to_hours(minutes)\n",
    "print(f\"{minutes} minutes is equal to {hours} hours\")"
   ]
  },
  {
   "cell_type": "markdown",
   "metadata": {},
   "source": [
    "### Objectives\n",
    "\n",
    "- List popular programming languages that Data Scientists use\n",
    "- List commonly used libraries used by Data Scientists\n",
    "- List Data Science Tools\n",
    "- Showcase arithmetic operations that Python can do"
   ]
  },
  {
   "cell_type": "markdown",
   "metadata": {},
   "source": [
    "## Author\n",
    "Danica Lim"
   ]
  },
  {
   "cell_type": "code",
   "execution_count": null,
   "metadata": {},
   "outputs": [],
   "source": []
  }
 ],
 "metadata": {
  "kernelspec": {
   "display_name": "Python 3 (ipykernel)",
   "language": "python",
   "name": "python3"
  },
  "language_info": {
   "codemirror_mode": {
    "name": "ipython",
    "version": 3
   },
   "file_extension": ".py",
   "mimetype": "text/x-python",
   "name": "python",
   "nbconvert_exporter": "python",
   "pygments_lexer": "ipython3",
   "version": "3.11.9"
  }
 },
 "nbformat": 4,
 "nbformat_minor": 4
}
